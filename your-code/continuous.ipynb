{
 "cells": [
  {
   "cell_type": "markdown",
   "metadata": {},
   "source": [
    "# Before your start:\n",
    "\n",
    "    Read the README.md file\n",
    "    Comment as much as you can and use the resources (README.md file)\n",
    "    Happy learning!"
   ]
  },
  {
   "cell_type": "markdown",
   "metadata": {},
   "source": [
    "In this exercise, we  will generate random numbers from the continuous disributions we learned in the lesson. There are two ways to generate random numbers:\n",
    "\n",
    "1. Using the numpy library \n",
    "1. using the Scipy library \n",
    "\n",
    "Use either or both of the lbraries in this exercise."
   ]
  },
  {
   "cell_type": "markdown",
   "metadata": {},
   "source": [
    "## Uniform Distribution\n",
    "\n",
    "To generate uniform random numbers between any two given values using scipy, we can either use the following code or the code that we have\n",
    "discussed in class:"
   ]
  },
  {
   "cell_type": "code",
   "execution_count": 1,
   "metadata": {},
   "outputs": [
    {
     "name": "stdout",
     "output_type": "stream",
     "text": [
      "[2.05188643 2.50460183 2.55566591 2.26893497 2.78041844 2.01808402\n",
      " 2.6219636  2.90619091 2.64101472 2.83676491]\n"
     ]
    }
   ],
   "source": [
    "from scipy.stats import uniform\n",
    "x = uniform.rvs(size=10)\n",
    "a = 2\n",
    "b = 3\n",
    "randoms  = a + (b-a)*x\n",
    "print(randoms)\n",
    "#p(d-c / b-a)"
   ]
  },
  {
   "cell_type": "code",
   "execution_count": 98,
   "metadata": {},
   "outputs": [],
   "source": [
    "'''\n",
    "a=1 #starting point\n",
    "b=3 #range\n",
    "x = np.linspace(a,b, 100)\n",
    "y = uniform.pdf(x, a, b)\n",
    "plt.plot(x, y)\n",
    "'''\n",
    "\n",
    "# importing libraries\n",
    "import numpy as np\n",
    "import math\n",
    "import pandas as pd\n",
    "import matplotlib.pyplot as plt\n",
    "\n",
    "from scipy.stats import uniform\n",
    "from scipy.stats import norm\n",
    "from scipy.stats import expon"
   ]
  },
  {
   "cell_type": "markdown",
   "metadata": {},
   "source": [
    "**Your task:**\n",
    "\n",
    "1. Based on the code above, write a function that generates uniformly distributed random numbers. There are several requirements for your function:\n",
    "    * It should accept 3 parameters: \n",
    "        * `bottom` - the lower boundary of the generated numbers\n",
    "        * `ceiling` - the upper boundary of the generated numbers\n",
    "        * `count` - how many numbers to generate\n",
    "    * It should return an array of uniformly distributed random numbers\n",
    "\n",
    "1. Call your function with 2 sets of params below:\n",
    "    * bottom=10, ceiling=15, count=100\n",
    "    * bottom=10, ceiling=60, count=1,000\n",
    "\n",
    "1. Plot the uniform distributions generated above using histograms, where x axis is the value and y axis is the count. Let the histogram's number of bins be 10.\n",
    "\n",
    "Your output should look like below:\n",
    "\n",
    "![uniform distribution](ud.png)"
   ]
  },
  {
   "cell_type": "code",
   "execution_count": 2,
   "metadata": {},
   "outputs": [],
   "source": [
    "# your code here\n",
    "def my_random(bottom, ceiling, count):\n",
    "        x = uniform.rvs(size= count)\n",
    "        a = bottom\n",
    "        b = ceiling\n",
    "        randoms  = a + (b-a)*x\n",
    "        return randoms"
   ]
  },
  {
   "cell_type": "code",
   "execution_count": 47,
   "metadata": {},
   "outputs": [
    {
     "data": {
      "text/plain": [
       "Text(0, 0.5, 'common Y')"
      ]
     },
     "execution_count": 47,
     "metadata": {},
     "output_type": "execute_result"
    },
    {
     "data": {
      "image/png": "[encoded data removed]",
      "text/plain": [
       "<Figure size 432x288 with 2 Axes>"
      ]
     },
     "metadata": {
      "needs_background": "light"
     },
     "output_type": "display_data"
    }
   ],
   "source": [
    "#x axis is the value and y axis is the count\n",
    "\n",
    "#define figure\n",
    "fig, axs = plt.subplots(1, 2, sharey=True, tight_layout=True)\n",
    "\n",
    "\n",
    "#my_random(10,15,100)\n",
    "data_15 = my_random(10,15,100)\n",
    "axs[0].hist(data_15, bins = 10)\n",
    "axs[0].title.set_text('(10,15,100)')\n",
    "\n",
    "\n",
    "#my_random(10,60,1000)\n",
    "\n",
    "data_60 = my_random(10,60,1000)\n",
    "axs[1].hist(data_60, bins=10)\n",
    "axs[1].title.set_text('(10,60,1000)')\n",
    "\n",
    "'''common labels are not working''''\n",
    "\n",
    "#plt.xlabel(\"common X\")\n",
    "#plt.ylabel(\"common Y\")\n"
   ]
  },
  {
   "cell_type": "markdown",
   "metadata": {},
   "source": [
    "How are the two distributions different?"
   ]
  },
  {
   "cell_type": "code",
   "execution_count": null,
   "metadata": {},
   "outputs": [],
   "source": [
    "# your answer here:\n",
    "'''\n",
    "apparently the only diference is how much the points can distance from what would be the 'average' count per number.\n",
    "Average would be around 100 for 10,60,1000 and 10 for 10,15,100. But I would have to check.\n",
    "'''"
   ]
  },
  {
   "cell_type": "markdown",
   "metadata": {},
   "source": [
    "## Normal Distribution\n",
    "\n",
    "1. In the same way in the Uniform Distribution challenge, write a function that generates normally distributed random numbers.\n",
    "1. Generate 1,000 normally distributed numbers with the average of 10 and standard deviation of 1\n",
    "1. Generate 1,000 normally distributed numbers with the average of 10 and standard deviation of 50\n",
    "2. Plot the distributions of the data generated.\n",
    "\n",
    "Expected output:\n",
    "\n",
    "![normal distribution](nd.png)"
   ]
  },
  {
   "cell_type": "code",
   "execution_count": 66,
   "metadata": {},
   "outputs": [],
   "source": [
    "#https://stackoverflow.com/questions/4001577/difference-between-random-draws-from-scipy-stats-rvs-and-numpy-random\n",
    "\n",
    "def my_random_2(mean, std):\n",
    "        normal = np.random.normal(mean, std, 1000) #or norm.rvs(mean, std, size =1000)? is it the same?\n",
    "        return normal\n",
    "\n",
    "norm_1 = my_random_2(10, 1)\n",
    "norm_50 = my_random_2(10, 50)"
   ]
  },
  {
   "cell_type": "code",
   "execution_count": 67,
   "metadata": {},
   "outputs": [
    {
     "data": {
      "image/png": "[encoded data removed]",
      "text/plain": [
       "<Figure size 432x288 with 2 Axes>"
      ]
     },
     "metadata": {
      "needs_background": "light"
     },
     "output_type": "display_data"
    }
   ],
   "source": [
    "#define figure\n",
    "fig, axs = plt.subplots(1, 2, sharey=True, tight_layout=True)\n",
    "\n",
    "#my_random(10,15,100)\n",
    "\n",
    "axs[0].hist(norm_1) #, bins = 10)\n",
    "axs[0].title.set_text('std of 1')\n",
    "\n",
    "\n",
    "#my_random(10,60,1000)\n",
    "\n",
    "axs[1].hist(norm_50) #, bins=10)\n",
    "axs[1].title.set_text('std of 50')\n",
    "\n",
    "#'''common labels are not working'''\n",
    "\n",
    "#plt.xlabel(\"common X\")\n",
    "#plt.ylabel(\"common Y\")"
   ]
  },
  {
   "cell_type": "markdown",
   "metadata": {},
   "source": [
    "How are the two distributions different?"
   ]
  },
  {
   "cell_type": "code",
   "execution_count": null,
   "metadata": {},
   "outputs": [],
   "source": [
    "# your answer here:\n",
    "#they look pretty similar to me."
   ]
  },
  {
   "cell_type": "markdown",
   "metadata": {},
   "source": [
    "## Normal Distribution of Real Data\n",
    "\n",
    "In this challenge we are going to take a look the real data. We will use vehicles.csv file for this exercise"
   ]
  },
  {
   "cell_type": "markdown",
   "metadata": {},
   "source": [
    "First import vehicles.csv.\n",
    "Then plot the histograms for the following variables:\n",
    "\n",
    "1. Fuel Barrels/Year"
   ]
  },
  {
   "cell_type": "code",
   "execution_count": 72,
   "metadata": {},
   "outputs": [
    {
     "data": {
      "text/plain": [
       "<matplotlib.axes._subplots.AxesSubplot at 0x11ad62b50>"
      ]
     },
     "execution_count": 72,
     "metadata": {},
     "output_type": "execute_result"
    },
    {
     "data": {
      "image/png": "[encoded data removed]",
      "text/plain": [
       "<Figure size 432x288 with 1 Axes>"
      ]
     },
     "metadata": {
      "needs_background": "light"
     },
     "output_type": "display_data"
    }
   ],
   "source": [
    "# your code here\n",
    "#/Users/beatrizrenault/Documents/IH_DATA/DATASETS/vehicles.csv\n",
    "\n",
    "vehicles = pd.read_csv('/Users/beatrizrenault/Documents/IH_DATA/DATASETS/vehicles.csv')\n",
    "vehicles['Fuel Barrels/Year'].hist()\n"
   ]
  },
  {
   "cell_type": "markdown",
   "metadata": {},
   "source": [
    "2. CO2 Emission Grams/Mile "
   ]
  },
  {
   "cell_type": "code",
   "execution_count": 73,
   "metadata": {},
   "outputs": [
    {
     "data": {
      "text/plain": [
       "<matplotlib.axes._subplots.AxesSubplot at 0x11e8f7850>"
      ]
     },
     "execution_count": 73,
     "metadata": {},
     "output_type": "execute_result"
    },
    {
     "data": {
      "image/png": "[encoded data removed]",
      "text/plain": [
       "<Figure size 432x288 with 1 Axes>"
      ]
     },
     "metadata": {
      "needs_background": "light"
     },
     "output_type": "display_data"
    }
   ],
   "source": [
    "# your code here\n",
    "vehicles['CO2 Emission Grams/Mile'].hist()"
   ]
  },
  {
   "cell_type": "markdown",
   "metadata": {},
   "source": [
    "3. Combined MPG"
   ]
  },
  {
   "cell_type": "code",
   "execution_count": 74,
   "metadata": {},
   "outputs": [
    {
     "data": {
      "text/plain": [
       "<matplotlib.axes._subplots.AxesSubplot at 0x11e8ac910>"
      ]
     },
     "execution_count": 74,
     "metadata": {},
     "output_type": "execute_result"
    },
    {
     "data": {
      "image/png": "[encoded data removed]",
      "text/plain": [
       "<Figure size 432x288 with 1 Axes>"
      ]
     },
     "metadata": {
      "needs_background": "light"
     },
     "output_type": "display_data"
    }
   ],
   "source": [
    "# your code here\n",
    "vehicles['Combined MPG'].hist()"
   ]
  },
  {
   "cell_type": "markdown",
   "metadata": {},
   "source": [
    "Which one(s) of the variables are nearly normally distributed? How do you know?"
   ]
  },
  {
   "cell_type": "code",
   "execution_count": 81,
   "metadata": {},
   "outputs": [
    {
     "name": "stdout",
     "output_type": "stream",
     "text": [
      "17.609055502328133 17.347894736842107 0    18.311667\n",
      "dtype: float64\n",
      "475.3163392572124 467.73684210526324 0    493.722222\n",
      "dtype: float64\n",
      "19.92932242990654 19.0 0    18\n",
      "dtype: int64\n"
     ]
    }
   ],
   "source": [
    "# you answer here:\n",
    "#They all kind of look simetrical.\n",
    "#One characteristic of the precise normal distribution is that the mean, median, and mode are equal.\n",
    "\n",
    "print( vehicles['Fuel Barrels/Year'].mean(), \n",
    "      vehicles['Fuel Barrels/Year'].median(), \n",
    "      vehicles['Fuel Barrels/Year'].mode())\n",
    "\n",
    "print( vehicles['CO2 Emission Grams/Mile'].mean(), \n",
    "      vehicles['CO2 Emission Grams/Mile'].median(), \n",
    "      vehicles['CO2 Emission Grams/Mile'].mode())\n",
    "\n",
    "print( vehicles['Combined MPG'].mean(), \n",
    "      vehicles['Combined MPG'].median(), \n",
    "      vehicles['Combined MPG'].mode())\n",
    "\n",
    "'''None is precisely normal'''"
   ]
  },
  {
   "cell_type": "code",
   "execution_count": 97,
   "metadata": {},
   "outputs": [
    {
     "name": "stdout",
     "output_type": "stream",
     "text": [
      "30338064\n",
      "27730756\n",
      "712336\n"
     ]
    },
    {
     "data": {
      "text/plain": [
       "'MPG would be the one closest to a  normal distribution'"
      ]
     },
     "execution_count": 97,
     "metadata": {},
     "output_type": "execute_result"
    }
   ],
   "source": [
    "#A normal distribution is one in which the values are evenly distributed both above and below the mean. \n",
    "\n",
    "left_fb = vehicles[vehicles['Fuel Barrels/Year'] >\n",
    "         (vehicles['Fuel Barrels/Year'].mean())]\n",
    "\n",
    "right_fb = vehicles[vehicles['Fuel Barrels/Year'] <\n",
    "         (vehicles['Fuel Barrels/Year'].mean())]\n",
    "\n",
    "print(  (len(left_fb) - len(right_fb))**2  )\n",
    "\n",
    "left_co = vehicles[vehicles['CO2 Emission Grams/Mile'] >\n",
    "         (vehicles['CO2 Emission Grams/Mile'].mean())]\n",
    "\n",
    "right_co = vehicles[vehicles['CO2 Emission Grams/Mile'] <\n",
    "         (vehicles['CO2 Emission Grams/Mile'].mean())]\n",
    "\n",
    "print(  (len(left_co) - len(right_co))**2  )\n",
    "\n",
    "left_mpg = vehicles[vehicles['Combined MPG'] >\n",
    "         (vehicles['Combined MPG'].mean())]\n",
    "\n",
    "right_mpg = vehicles[vehicles['Combined MPG'] <\n",
    "         (vehicles['Combined MPG'].mean())]\n",
    "\n",
    "print(  (len(left_mpg) - len(right_mpg))**2  )\n",
    "\n",
    "'''MPG would be the one closest to a  normal distribution'''"
   ]
  },
  {
   "cell_type": "markdown",
   "metadata": {},
   "source": [
    "## Exponential Distribution"
   ]
  },
  {
   "cell_type": "markdown",
   "metadata": {},
   "source": [
    "1. Using `numpy.random.exponential`, create a function that returns a list of numbers exponentially distributed with the mean of 10. \n",
    "\n",
    "1. Use the function to generate two number sequences with a mean of 1 and 100 and a size of 1000.\n",
    "\n",
    "1. Plot the distributions as histograms with the number of bins as 100.\n",
    "\n",
    "Your output should look like below:\n",
    "\n",
    "![exponential distribution](ed.png)"
   ]
  },
  {
   "cell_type": "code",
   "execution_count": 111,
   "metadata": {},
   "outputs": [
    {
     "data": {
      "text/plain": [
       "<Figure size 1728x1440 with 0 Axes>"
      ]
     },
     "metadata": {},
     "output_type": "display_data"
    },
    {
     "data": {
      "image/png": "[encoded data removed]",
      "text/plain": [
       "<Figure size 432x288 with 2 Axes>"
      ]
     },
     "metadata": {
      "needs_background": "light"
     },
     "output_type": "display_data"
    }
   ],
   "source": [
    "# your code here\n",
    "#mean of 10\n",
    "#two sequences mean of 1, mean of 100 and size of 1000.\n",
    "#bins as 100\n",
    "\n",
    "#https://dfrieds.com/math/exponential-distribution.html >> check it\n",
    "#a process in which events occur continuously and independently at a constant average rate.\n",
    "\n",
    "\n",
    "def my_random_3(mean, size):\n",
    "    return np.random.exponential(mean, size=size)\n",
    "\n",
    "\n",
    "fig = plt.figure(figsize=(24, 20)) \n",
    "fig, axs = plt.subplots(1,2, sharey=True)\n",
    "\n",
    "axs[0].hist(expdis(10, 1000),  bins=100)\n",
    "axs[1].hist(expdis(100, 1000),  bins=100)\n",
    "plt.show()"
   ]
  },
  {
   "cell_type": "markdown",
   "metadata": {},
   "source": [
    "How are the two distributions different?"
   ]
  },
  {
   "cell_type": "code",
   "execution_count": 112,
   "metadata": {},
   "outputs": [
    {
     "data": {
      "text/plain": [
       "'The look a lot alike, but in different scales.\\n'"
      ]
     },
     "execution_count": 112,
     "metadata": {},
     "output_type": "execute_result"
    }
   ],
   "source": [
    "'''The look a lot alike, but in different scales.\n",
    "'''"
   ]
  },
  {
   "cell_type": "markdown",
   "metadata": {},
   "source": [
    "## Exponential Distribution of Real Data\n",
    "\n",
    "Suppose that the amount of time one spends in a bank is exponentially distributed with mean as 10 minutes (i.e. λ = 1/10). What is the probability that a customer will spend less than fifteen minutes in the bank? \n",
    "\n",
    "Write a code in python to solve this problem"
   ]
  },
  {
   "cell_type": "code",
   "execution_count": 116,
   "metadata": {},
   "outputs": [
    {
     "data": {
      "text/plain": [
       "0.22313016014842982"
      ]
     },
     "execution_count": 116,
     "metadata": {},
     "output_type": "execute_result"
    }
   ],
   "source": [
    "# your answer here\n",
    "# Hint: This is same as saying P(x<15)\n",
    "#I didn't get it\n",
    "\n",
    "# Pr[𝑋>𝑡]=1−𝐹𝑋(𝑡)=𝑒−𝜆𝑡\n",
    "\n",
    "import math\n",
    "\n",
    "math.exp( -(1/10)*15)"
   ]
  },
  {
   "cell_type": "markdown",
   "metadata": {},
   "source": [
    "What is the probability that the customer will spend more than 15 minutes"
   ]
  },
  {
   "cell_type": "code",
   "execution_count": 117,
   "metadata": {},
   "outputs": [
    {
     "data": {
      "text/plain": [
       "0.6065306597126334"
      ]
     },
     "execution_count": 117,
     "metadata": {},
     "output_type": "execute_result"
    }
   ],
   "source": [
    "# your answer here\n",
    "math.exp( -(1/10)*(15-10))"
   ]
  }
 ],
 "metadata": {
  "kernelspec": {
   "display_name": "Python 3",
   "language": "python",
   "name": "python3"
  },
  "language_info": {
   "codemirror_mode": {
    "name": "ipython",
    "version": 3
   },
   "file_extension": ".py",
   "mimetype": "text/x-python",
   "name": "python",
   "nbconvert_exporter": "python",
   "pygments_lexer": "ipython3",
   "version": "3.7.4"
  }
 },
 "nbformat": 4,
 "nbformat_minor": 2
}
