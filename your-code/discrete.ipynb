{
 "cells": [
  {
   "cell_type": "markdown",
   "metadata": {},
   "source": [
    "# Before your start:\n",
    "\n",
    "    Read the README.md file\n",
    "    Comment as much as you can and use the resources (README.md file)\n",
    "    Happy learning!\n",
    "\n",
    "*Notes:* \n",
    "\n",
    "- Solve the questions with python.\n",
    "\n",
    "- Round the final answer to three decimal places."
   ]
  },
  {
   "cell_type": "code",
   "execution_count": 2,
   "metadata": {},
   "outputs": [],
   "source": [
    "import numpy as np\n",
    "import math\n",
    "import pandas as pd\n",
    "import matplotlib.pyplot as plt\n",
    "\n",
    "from scipy.stats import uniform\n",
    "from scipy.stats import norm\n",
    "from scipy.stats import expon\n",
    "from scipy.stats import bernoulli"
   ]
  },
  {
   "cell_type": "markdown",
   "metadata": {},
   "source": [
    "## Bernoulli's Distribution\n",
    "\n",
    "In a basket containing 100 fruits, there are 60 apples and 40 oranges. \n",
    "\n",
    "A fruit is picked randomly from the basket. \n",
    "\n",
    "1. **What is the probability that the fruit is apple?**\n",
    "1. **What is the probability that it is an orange?**"
   ]
  },
  {
   "cell_type": "code",
   "execution_count": 3,
   "metadata": {},
   "outputs": [
    {
     "name": "stdout",
     "output_type": "stream",
     "text": [
      "0.6 0.4\n"
     ]
    }
   ],
   "source": [
    "\"\"\"\n",
    "Calculate:\n",
    "p = probability that the fruit is an apple \n",
    "q = probability that the fruit is an orange\n",
    "\"\"\"\n",
    "\n",
    "# your code here\n",
    "p = 60/100\n",
    "q = 1-p\n",
    "print(p,q)\n",
    "\n"
   ]
  },
  {
   "cell_type": "markdown",
   "metadata": {},
   "source": [
    "Now we take a random sample of 20 fruits from the basket. After each fruit is taken, a new fruit of the same type is replaced in the basket. Therefore, every time we are taking 1 fruit from 100 fruits. \n",
    "\n",
    "1. **What is the probability that the first 5 fruits are all apples?**\n",
    "\n",
    "1. **What is the probability that the first 5 fruits are all apples and the next 15 fruits are all oranges?**\n",
    "\n",
    "You can include the `p` and `q` probabilities you previous calculated in your solution."
   ]
  },
  {
   "cell_type": "code",
   "execution_count": 10,
   "metadata": {},
   "outputs": [
    {
     "name": "stdout",
     "output_type": "stream",
     "text": [
      "12.0 8.0\n",
      "prob. of first 5 are apples:  0.07775999999999998\n",
      "prob. of first 5 are apples and everything else is orange:  1.3446818644088602e-07\n"
     ]
    }
   ],
   "source": [
    "# your code here\n",
    "\n",
    "#universe is 100\n",
    "#sample is 20 (probably 20*0.6 apples, 20*.4 oranges), 12 apples, 8 oranges.\n",
    "#print(20*.6, 20*.4)\n",
    "print('prob. of first 5 are apples: ', .6**5)\n",
    "print('prob. of first 5 are apples and everything else is orange: ', (.66**5)*(.4**15))\n"
   ]
  },
  {
   "cell_type": "markdown",
   "metadata": {},
   "source": [
    "## Binomial Distribution\n",
    "\n",
    "Similar to the above problem, this time again we randomly sample 20 fruits.\n",
    "\n",
    "**What is the probability that this time the sample contains 5 apples and 15 oranges?**\n",
    "\n",
    "Please note that this time the order of the fruits being picked does not matter."
   ]
  },
  {
   "cell_type": "code",
   "execution_count": 14,
   "metadata": {},
   "outputs": [
    {
     "name": "stdout",
     "output_type": "stream",
     "text": [
      "0.0012944935222876511\n",
      "0.0012944935222876511\n"
     ]
    },
    {
     "data": {
      "text/plain": [
       "0.0012944935222876511"
      ]
     },
     "execution_count": 14,
     "metadata": {},
     "output_type": "execute_result"
    }
   ],
   "source": [
    "# your code here\n",
    "%matplotlib inline\n",
    "from scipy import stats\n",
    "from scipy.stats import binom\n",
    "\n",
    "\n",
    "n=20\n",
    "p=0.6\n",
    "binomial = binom(n,p)\n",
    "print(binomial.pmf(5))\n",
    "\n",
    "#or \n",
    "\n",
    "n=20\n",
    "p=0.4\n",
    "binomial = binom(n,p)\n",
    "print(binomial.pmf(15))\n",
    "\n",
    "#or\n",
    "binom.pmf(5, 20, 0.6)"
   ]
  },
  {
   "cell_type": "markdown",
   "metadata": {},
   "source": [
    "In the lesson we also discussed CDF (cumulative distribution function). In the context of the above problem, **what is the probability that less than 5 fruits picked are apples?**\n",
    "\n",
    "Write the formula and calculate the probability below."
   ]
  },
  {
   "cell_type": "code",
   "execution_count": 15,
   "metadata": {},
   "outputs": [
    {
     "name": "stdout",
     "output_type": "stream",
     "text": [
      "0.001611524643456288\n"
     ]
    },
    {
     "data": {
      "text/plain": [
       "0.001611524643456288"
      ]
     },
     "execution_count": 15,
     "metadata": {},
     "output_type": "execute_result"
    }
   ],
   "source": [
    "# your code here\n",
    "\n",
    "n=20\n",
    "p=0.6\n",
    "binomial = binom(n,p)\n",
    "print(binomial.cdf(5))\n",
    "\n",
    "#or\n",
    "\n",
    "binom.cdf(5, 20, 0.6)\n"
   ]
  },
  {
   "cell_type": "markdown",
   "metadata": {},
   "source": [
    "**Plot the PDF (probability distributiom function) for the above binomial distribution.**\n",
    "\n",
    "*Hint: The range of x in a binomial distribution is from `0` to `n`.*"
   ]
  },
  {
   "cell_type": "code",
   "execution_count": 21,
   "metadata": {},
   "outputs": [
    {
     "data": {
      "text/plain": [
       "Text(0.5, 1.0, 'Apples')"
      ]
     },
     "execution_count": 21,
     "metadata": {},
     "output_type": "execute_result"
    },
    {
     "data": {
      "image/png": "[encoded data removed]",
      "text/plain": [
       "<Figure size 432x288 with 1 Axes>"
      ]
     },
     "metadata": {
      "needs_background": "light"
     },
     "output_type": "display_data"
    }
   ],
   "source": [
    "# your code here\n",
    "# Please label the axes and give a title to the plot\n",
    "\n",
    "x = np.arange(0,20)\n",
    "fig, ax = plt.subplots(1, 1)\n",
    "ax.plot(x, binom.pmf(x, n, p), 'bo')\n",
    "#ax.vlines(x, 0, binom.cdf(x, n, p), colors='b', lw=5, alpha=0.5)\n",
    "\n",
    "\n",
    "ax.set_xlabel(\"Number of Apples\")\n",
    "ax.set_ylabel(\"Probability\")\n",
    "ax.set_title(\"Apples\")"
   ]
  },
  {
   "cell_type": "code",
   "execution_count": null,
   "metadata": {},
   "outputs": [],
   "source": []
  },
  {
   "cell_type": "markdown",
   "metadata": {},
   "source": [
    "## Poisson Distribution\n",
    "\n",
    "In this challenge you are required to use the Math library in python to solve the problems.\n",
    "\n",
    "In the UEFA champions league tournament, the average number of goals scored in a match is 2.3. \n",
    "\n",
    "**What is the probability that the number of goals scored in a match is 5?**\n",
    "\n",
    "*Hint: Use the exp() in the math library*\n",
    "\n",
    "And to calculate the factorial, you can use the following code:\n",
    "\n",
    "```python\n",
    "import math\n",
    "math.factorial(n) # n is the number you want to find the factorial of\n",
    "```"
   ]
  },
  {
   "cell_type": "code",
   "execution_count": 34,
   "metadata": {},
   "outputs": [
    {
     "data": {
      "text/plain": [
       "0.0537750255819468"
      ]
     },
     "execution_count": 34,
     "metadata": {},
     "output_type": "execute_result"
    }
   ],
   "source": [
    "# your code here\n",
    "#The Poisson Distribution is used to predict how many times something might happen in a specific timeframe\n",
    "#P(x; μ) = (eˆ-μ) (μx) / x!\n",
    "#P(5; 2.3) = (2.71828-2.3) (2.3*5) / 5!\n",
    "import math\n",
    "math.factorial(n)\n",
    "\n",
    "Poisson = (math.exp(-2.3))*(2.3**5) / math.factorial(5)\n",
    "Poisson\n",
    "\n",
    "\n",
    "#mu = 2.3\n",
    "#k = 5\n"
   ]
  },
  {
   "cell_type": "code",
   "execution_count": null,
   "metadata": {},
   "outputs": [],
   "source": []
  },
  {
   "cell_type": "markdown",
   "metadata": {},
   "source": [
    "**Draw a poisson probability distribution plot for the number of goals to be between 0 to 10.**"
   ]
  },
  {
   "cell_type": "code",
   "execution_count": 33,
   "metadata": {},
   "outputs": [
    {
     "name": "stderr",
     "output_type": "stream",
     "text": [
      "/Library/Frameworks/Python.framework/Versions/3.7/lib/python3.7/site-packages/ipykernel_launcher.py:28: MatplotlibDeprecationWarning: Passing the drawstyle with the linestyle as a single string is deprecated since Matplotlib 3.1 and support will be removed in 3.3; please pass the drawstyle separately using the drawstyle keyword argument to Line2D or set_drawstyle() method (or ds/set_ds()).\n"
     ]
    },
    {
     "data": {
      "image/png": "[encoded data removed]",
      "text/plain": [
       "<Figure size 360x270 with 1 Axes>"
      ]
     },
     "metadata": {
      "needs_background": "light"
     },
     "output_type": "display_data"
    }
   ],
   "source": [
    "# your code here\n",
    "# Please label the axes and give a title to the plot \n",
    "\n",
    "#https://www.astroml.org/book_figures/chapter3/fig_poisson_distribution.html\n",
    "\n",
    "'''from scipy.stats import poisson\n",
    "\n",
    "# Define the distribution parameters to be plotted\n",
    "mu_values = [2.3]\n",
    "linestyles = ['-']\n",
    "\n",
    "#------------------------------------------------------------\n",
    "# plot the distributions\n",
    "#   we generate it using scipy.stats.poisson().  Once the distribution\n",
    "#   object is created, we have many options: for example\n",
    "#   - dist.pmf(x) evaluates the probability mass function in the case of\n",
    "#     discrete distributions.\n",
    "#   - dist.pdf(x) evaluates the probability density function for\n",
    "#   evaluates\n",
    "fig, ax = plt.subplots(figsize=(5, 3.75))\n",
    "\n",
    "for mu, ls in zip(mu_values, linestyles):\n",
    "    # create a poisson distribution\n",
    "    # we could generate a random sample from this distribution using, e.g.\n",
    "    #   rand = dist.rvs(1000)\n",
    "    dist = poisson(mu)\n",
    "    x = np.arange(0, 10)\n",
    "\n",
    "    plt.plot(x, dist.pmf(x), color='black',\n",
    "             linestyle='steps-mid' + ls,\n",
    "             label=r'$\\mu=%i$' % mu)\n",
    "\n",
    "#plt.xlim(-0.5, 30)\n",
    "#plt.ylim(0, 0.4)\n",
    "\n",
    "plt.xlabel('$x$')\n",
    "plt.ylabel(r'$p(x|\\mu)$')\n",
    "plt.title('Poisson Distribution')\n",
    "\n",
    "plt.legend()\n",
    "plt.show()"
   ]
  },
  {
   "cell_type": "code",
   "execution_count": 41,
   "metadata": {},
   "outputs": [
    {
     "data": {
      "image/png": "[encoded data removed]",
      "text/plain": [
       "<Figure size 360x270 with 1 Axes>"
      ]
     },
     "metadata": {
      "needs_background": "light"
     },
     "output_type": "display_data"
    }
   ],
   "source": [
    "\n",
    "#https://www.astroml.org/book_figures/chapter3/fig_poisson_distribution.html\n",
    "\n",
    "from scipy.stats import poisson\n",
    "\n",
    "# Define the distribution parameters to be plotted\n",
    "\n",
    "fig, ax = plt.subplots(figsize=(5, 3.75))\n",
    "\n",
    "\n",
    "dist = poisson(2.3)\n",
    "x = np.arange(0, 10)\n",
    "\n",
    "plt.plot(x, dist.pmf(x), color='black', label= 'mu = 2.3')\n",
    "\n",
    "#plt.xlim(-0.5, 30)\n",
    "#plt.ylim(0, 0.4)\n",
    "\n",
    "plt.xlabel('$x$')\n",
    "plt.ylabel(r'$p(x|\\mu)$')\n",
    "plt.title('Poisson Distribution')\n",
    "\n",
    "plt.legend()\n",
    "plt.show()"
   ]
  },
  {
   "cell_type": "code",
   "execution_count": null,
   "metadata": {},
   "outputs": [],
   "source": []
  }
 ],
 "metadata": {
  "kernelspec": {
   "display_name": "Python 3",
   "language": "python",
   "name": "python3"
  },
  "language_info": {
   "codemirror_mode": {
    "name": "ipython",
    "version": 3
   },
   "file_extension": ".py",
   "mimetype": "text/x-python",
   "name": "python",
   "nbconvert_exporter": "python",
   "pygments_lexer": "ipython3",
   "version": "3.7.4"
  }
 },
 "nbformat": 4,
 "nbformat_minor": 2
}
